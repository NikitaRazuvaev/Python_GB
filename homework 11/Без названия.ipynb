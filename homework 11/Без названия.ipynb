{
 "cells": [
  {
   "cell_type": "code",
   "execution_count": 19,
   "id": "e3362788-f5f2-423e-8c43-02fa92d12b11",
   "metadata": {},
   "outputs": [],
   "source": [
    "import numpy as np\n",
    "import matplotlib.pyplot as plt\n",
    "import sympy\n"
   ]
  },
  {
   "cell_type": "code",
   "execution_count": 20,
   "id": "f77a7af3-8360-40f5-846e-3fbd9fb0df3a",
   "metadata": {},
   "outputs": [],
   "source": [
    "y = lambda x: -12*x**4*np.sin(np.cos(x))-18*x**3+5*x**2+10*x-30"
   ]
  },
  {
   "cell_type": "markdown",
   "id": "932778e6-c0f0-45fd-8d22-facaa3d5687d",
   "metadata": {},
   "source": [
    "Построение графика на интервале от -10 до 10"
   ]
  },
  {
   "cell_type": "code",
   "execution_count": 21,
   "id": "18824861-898d-479b-a020-e83102935f60",
   "metadata": {},
   "outputs": [
    {
     "data": {
      "text/plain": [
       "[<matplotlib.lines.Line2D at 0x7f3d0f63b4c0>]"
      ]
     },
     "execution_count": 21,
     "metadata": {},
     "output_type": "execute_result"
    },
    {
     "data": {
      "image/png": "[encoded data removed]",
      "text/plain": [
       "<Figure size 640x480 with 1 Axes>"
      ]
     },
     "metadata": {},
     "output_type": "display_data"
    }
   ],
   "source": [
    "x = np.linspace(-10,10, 100)\n",
    "plt.plot(x, y(x))"
   ]
  },
  {
   "cell_type": "code",
   "execution_count": 40,
   "id": "5e438067-43c2-49c4-9743-b17e801c7f7c",
   "metadata": {},
   "outputs": [],
   "source": [
    "x = symbols('x')\n",
    "f = -12*x**4*sympy.sin(sympy.cos(x))-18*x**3+5*x**2+10*x-30\n",
    "lower_bound = -10\n",
    "upper_bound = 10\n",
    "function = sympy.lambdify(x, f.diff(x))"
   ]
  },
  {
   "cell_type": "code",
   "execution_count": 41,
   "id": "5db7c415-07b5-46cb-9c0c-f10649d2eab9",
   "metadata": {},
   "outputs": [
    {
     "data": {
      "text/latex": [
       "$\\displaystyle - 12 x^{4} \\sin{\\left(\\cos{\\left(x \\right)} \\right)} - 18 x^{3} + 5 x^{2} + 10 x - 30$"
      ],
      "text/plain": [
       "-12*x**4*sin(cos(x)) - 18*x**3 + 5*x**2 + 10*x - 30"
      ]
     },
     "execution_count": 41,
     "metadata": {},
     "output_type": "execute_result"
    }
   ],
   "source": [
    "f"
   ]
  },
  {
   "cell_type": "code",
   "execution_count": 43,
   "id": "aec5f7ae-30eb-4749-8f7c-6f6db6fc8251",
   "metadata": {},
   "outputs": [
    {
     "data": {
      "text/latex": [
       "$\\displaystyle -1.33896663927711$"
      ],
      "text/plain": [
       "-1.33896663927711"
      ]
     },
     "execution_count": 43,
     "metadata": {},
     "output_type": "execute_result"
    }
   ],
   "source": [
    "sympy.nsolve(f,x,1)"
   ]
  },
  {
   "cell_type": "code",
   "execution_count": 54,
   "id": "bcd45de9-c0d6-4eed-b822-2ffc61da6e22",
   "metadata": {},
   "outputs": [
    {
     "ename": "TypeError",
     "evalue": "'Add' object is not iterable",
     "output_type": "error",
     "traceback": [
      "\u001b[0;31m---------------------------------------------------------------------------\u001b[0m",
      "\u001b[0;31mTypeError\u001b[0m                                 Traceback (most recent call last)",
      "\u001b[0;32m/tmp/ipykernel_105594/2758974291.py\u001b[0m in \u001b[0;36m<module>\u001b[0;34m\u001b[0m\n\u001b[1;32m      1\u001b[0m \u001b[0mf\u001b[0m \u001b[0;34m=\u001b[0m \u001b[0;34m-\u001b[0m\u001b[0;36m12\u001b[0m\u001b[0;34m*\u001b[0m\u001b[0mx\u001b[0m\u001b[0;34m**\u001b[0m\u001b[0;36m4\u001b[0m\u001b[0;34m*\u001b[0m\u001b[0msympy\u001b[0m\u001b[0;34m.\u001b[0m\u001b[0msin\u001b[0m\u001b[0;34m(\u001b[0m\u001b[0msympy\u001b[0m\u001b[0;34m.\u001b[0m\u001b[0mcos\u001b[0m\u001b[0;34m(\u001b[0m\u001b[0mx\u001b[0m\u001b[0;34m)\u001b[0m\u001b[0;34m)\u001b[0m\u001b[0;34m-\u001b[0m\u001b[0;36m18\u001b[0m\u001b[0;34m*\u001b[0m\u001b[0mx\u001b[0m\u001b[0;34m**\u001b[0m\u001b[0;36m3\u001b[0m\u001b[0;34m+\u001b[0m\u001b[0;36m5\u001b[0m\u001b[0;34m*\u001b[0m\u001b[0mx\u001b[0m\u001b[0;34m**\u001b[0m\u001b[0;36m2\u001b[0m\u001b[0;34m+\u001b[0m\u001b[0;36m10\u001b[0m\u001b[0;34m*\u001b[0m\u001b[0mx\u001b[0m\u001b[0;34m-\u001b[0m\u001b[0;36m30\u001b[0m\u001b[0;34m\u001b[0m\u001b[0;34m\u001b[0m\u001b[0m\n\u001b[0;32m----> 2\u001b[0;31m \u001b[0mans\u001b[0m\u001b[0;34m=\u001b[0m \u001b[0msum\u001b[0m\u001b[0;34m(\u001b[0m\u001b[0mf\u001b[0m\u001b[0;34m)\u001b[0m\u001b[0;34m\u001b[0m\u001b[0;34m\u001b[0m\u001b[0m\n\u001b[0m",
      "\u001b[0;31mTypeError\u001b[0m: 'Add' object is not iterable"
     ]
    }
   ],
   "source": [
    "f = -12*x**4*sympy.sin(sympy.cos(x))-18*x**3+5*x**2+10*x-30\n",
    "ans= sympy.symbols(f)"
   ]
  },
  {
   "cell_type": "code",
   "execution_count": 46,
   "id": "6972eb9b-7a2b-4730-8bef-c334af6c0c65",
   "metadata": {},
   "outputs": [
    {
     "ename": "NameError",
     "evalue": "name 'ans' is not defined",
     "output_type": "error",
     "traceback": [
      "\u001b[0;31m---------------------------------------------------------------------------\u001b[0m",
      "\u001b[0;31mNameError\u001b[0m                                 Traceback (most recent call last)",
      "\u001b[0;32m/tmp/ipykernel_105594/411879537.py\u001b[0m in \u001b[0;36m<module>\u001b[0;34m\u001b[0m\n\u001b[0;32m----> 1\u001b[0;31m \u001b[0mans\u001b[0m\u001b[0;34m\u001b[0m\u001b[0;34m\u001b[0m\u001b[0m\n\u001b[0m",
      "\u001b[0;31mNameError\u001b[0m: name 'ans' is not defined"
     ]
    }
   ],
   "source": [
    "ans"
   ]
  },
  {
   "cell_type": "markdown",
   "id": "6bba4d4e-eba2-4f04-bd68-8c9d61887507",
   "metadata": {},
   "source": [
    "Min - Max\n"
   ]
  },
  {
   "cell_type": "code",
   "execution_count": 47,
   "id": "3fcee2ac-6f4a-4b3b-bd01-0c013618f9b1",
   "metadata": {},
   "outputs": [
    {
     "data": {
      "text/latex": [
       "$\\displaystyle 828.637370669753$"
      ],
      "text/plain": [
       "828.637370669753"
      ]
     },
     "execution_count": 47,
     "metadata": {},
     "output_type": "execute_result"
    }
   ],
   "source": [
    "x0 = 1+7**0.5\n",
    "f0 = -12*x0**4*sympy.sin(sympy.cos(x0))-18*x0**3+5*x0**2+10*x0-30\n",
    "f0"
   ]
  },
  {
   "cell_type": "code",
   "execution_count": 48,
   "id": "46c65575-ad9f-4602-8057-df7ceba253be",
   "metadata": {},
   "outputs": [],
   "source": [
    "'''нахождение интервалов на котором возрастает'''\n",
    "f,ff = sympy.symbols('f ff')\n",
    "f = -12*x**4*sympy.sin(sympy.cos(x))-18*x**3+5*x**2+10*x-30"
   ]
  },
  {
   "cell_type": "code",
   "execution_count": 49,
   "id": "0a74bfee-2924-4b15-81ad-f88e9a0affb2",
   "metadata": {},
   "outputs": [
    {
     "data": {
      "text/latex": [
       "$\\displaystyle 12 x^{4} \\sin{\\left(x \\right)} \\cos{\\left(\\cos{\\left(x \\right)} \\right)} - 48 x^{3} \\sin{\\left(\\cos{\\left(x \\right)} \\right)} - 54 x^{2} + 10 x + 10$"
      ],
      "text/plain": [
       "12*x**4*sin(x)*cos(cos(x)) - 48*x**3*sin(cos(x)) - 54*x**2 + 10*x + 10"
      ]
     },
     "execution_count": 49,
     "metadata": {},
     "output_type": "execute_result"
    }
   ],
   "source": [
    "ff = sympy.diff(f)\n",
    "ff\n"
   ]
  },
  {
   "cell_type": "code",
   "execution_count": null,
   "id": "fec821fd-74eb-468f-bb68-69d2f7fb77b1",
   "metadata": {},
   "outputs": [],
   "source": []
  },
  {
   "cell_type": "code",
   "execution_count": 53,
   "id": "435dc6a7-1754-441f-affb-0adde9c1c748",
   "metadata": {},
   "outputs": [
    {
     "ename": "NameError",
     "evalue": "name 'ans' is not defined",
     "output_type": "error",
     "traceback": [
      "\u001b[0;31m---------------------------------------------------------------------------\u001b[0m",
      "\u001b[0;31mNameError\u001b[0m                                 Traceback (most recent call last)",
      "\u001b[0;32m/tmp/ipykernel_105594/411879537.py\u001b[0m in \u001b[0;36m<module>\u001b[0;34m\u001b[0m\n\u001b[0;32m----> 1\u001b[0;31m \u001b[0mans\u001b[0m\u001b[0;34m\u001b[0m\u001b[0;34m\u001b[0m\u001b[0m\n\u001b[0m",
      "\u001b[0;31mNameError\u001b[0m: name 'ans' is not defined"
     ]
    }
   ],
   "source": [
    "ans"
   ]
  },
  {
   "cell_type": "code",
   "execution_count": null,
   "id": "d71a7d2e-8ecc-4293-8a14-a93bce370383",
   "metadata": {},
   "outputs": [],
   "source": [
    "x2 = -2\n",
    "f2 = -12*x1**4*sympy.sin(sympy.cos(x2))-18*x2**3+5*x2**2+10*x2-30"
   ]
  },
  {
   "cell_type": "code",
   "execution_count": null,
   "id": "1f8dc6a1-8642-442d-8915-56914b9acab0",
   "metadata": {},
   "outputs": [],
   "source": [
    "f2"
   ]
  },
  {
   "cell_type": "code",
   "execution_count": null,
   "id": "9f7bd64c-b107-4898-ac9e-b615975f671b",
   "metadata": {},
   "outputs": [],
   "source": [
    "f = -12*x**4*sympy.sin(sympy.cos(x))-18*x**3+5*x**2+10*x-30"
   ]
  },
  {
   "cell_type": "code",
   "execution_count": 35,
   "id": "4088d6b2-d57b-4256-ac00-48ad489f6c31",
   "metadata": {},
   "outputs": [],
   "source": [
    "x = np.arange(-20,20.01 , 0.01)"
   ]
  },
  {
   "cell_type": "code",
   "execution_count": 36,
   "id": "926ffcf3-f40d-44e5-be0a-834cb8a7d9af",
   "metadata": {},
   "outputs": [
    {
     "data": {
      "text/plain": [
       "array([-20.  , -19.99, -19.98, ...,  19.99,  20.  ,  20.01])"
      ]
     },
     "execution_count": 36,
     "metadata": {},
     "output_type": "execute_result"
    }
   ],
   "source": [
    "x"
   ]
  },
  {
   "cell_type": "code",
   "execution_count": null,
   "id": "de33e17b-bdd6-4a76-9c51-6cff012f00b5",
   "metadata": {},
   "outputs": [],
   "source": []
  },
  {
   "cell_type": "code",
   "execution_count": null,
   "id": "d9ee8e1f-91a1-4764-8ce4-d7fd3a9ac2fc",
   "metadata": {},
   "outputs": [],
   "source": []
  },
  {
   "cell_type": "code",
   "execution_count": null,
   "id": "9140cf6a-ea16-4671-bc48-d742a5c8259c",
   "metadata": {},
   "outputs": [],
   "source": []
  }
 ],
 "metadata": {
  "kernelspec": {
   "display_name": "Python 3 (ipykernel)",
   "language": "python",
   "name": "python3"
  },
  "language_info": {
   "codemirror_mode": {
    "name": "ipython",
    "version": 3
   },
   "file_extension": ".py",
   "mimetype": "text/x-python",
   "name": "python",
   "nbconvert_exporter": "python",
   "pygments_lexer": "ipython3",
   "version": "3.9.13"
  }
 },
 "nbformat": 4,
 "nbformat_minor": 5
}
